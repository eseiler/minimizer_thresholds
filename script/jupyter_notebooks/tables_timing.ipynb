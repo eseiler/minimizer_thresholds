{
 "cells": [
  {
   "cell_type": "markdown",
   "metadata": {},
   "source": [
    "#### Parameters\n",
    "w = 26 <br>\n",
    "k = 20 <br>\n",
    "e = 3 <br>\n",
    "p see secion"
   ]
  },
  {
   "cell_type": "code",
   "execution_count": 25,
   "metadata": {},
   "outputs": [],
   "source": [
    "import matplotlib.pyplot as plt\n",
    "import pandas as pd\n",
    "import os\n",
    "\n",
    "# path to result folder containing subdirs 100, 150 and 250\n",
    "path = os.path.abspath(\"<OUT_FOLDER>/test_out/positive\")\n",
    "\n",
    "tau_as_string = [\"0.000000\", \"0.050000\", \"0.100000\", \"0.150000\", \"0.200000\", \"0.250000\", \"0.300000\", \"0.350000\", \n",
    "                 \"0.400000\", \"0.450000\", \"0.500000\", \"0.550000\", \"0.600000\", \"0.650000\", \"0.700000\", \"0.750000\", \n",
    "                 \"0.800000\", \"0.850000\", \"0.900000\", \"0.950000\", \"0.990000\", \"0.999000\", \"1.000000\"]"
   ]
  },
  {
   "cell_type": "code",
   "execution_count": 26,
   "metadata": {},
   "outputs": [],
   "source": [
    "def x_y(pattern_size, tau):\n",
    "    assert(pattern_size in [100, 150, 250])\n",
    "    assert(tau in tau_as_string)\n",
    "    col_method = [\"lemma\", \"heuristic\", \"simple\", \"indirect\", \"overlapping\", \"indirect_overlapping\"]\n",
    "    col_pt = []\n",
    "    col_tt = []\n",
    "    # Collect true positives\n",
    "    for method in col_method:\n",
    "        filename = os.path.join(path, str(pattern_size), \"result_{}_w26_k20_e3_tau{}.csv\".format(method, tau))\n",
    "        df = pd.read_csv(filename)\n",
    "        col_pt.append(float(df[\"precompute_time\"]))\n",
    "        col_tt.append(float(df[\"threshold_time\"]))\n",
    "    \n",
    "    d = {'method': col_method, 'precompute_time': col_pt, 'threshold_time' : col_tt}\n",
    "    df = pd.DataFrame(data=d)\n",
    "        \n",
    "    return df"
   ]
  },
  {
   "cell_type": "code",
   "execution_count": 27,
   "metadata": {},
   "outputs": [
    {
     "data": {
      "text/html": [
       "<div>\n",
       "<style scoped>\n",
       "    .dataframe tbody tr th:only-of-type {\n",
       "        vertical-align: middle;\n",
       "    }\n",
       "\n",
       "    .dataframe tbody tr th {\n",
       "        vertical-align: top;\n",
       "    }\n",
       "\n",
       "    .dataframe thead th {\n",
       "        text-align: right;\n",
       "    }\n",
       "</style>\n",
       "<table border=\"1\" class=\"dataframe\">\n",
       "  <thead>\n",
       "    <tr style=\"text-align: right;\">\n",
       "      <th></th>\n",
       "      <th>method</th>\n",
       "      <th>precompute_time</th>\n",
       "      <th>threshold_time</th>\n",
       "    </tr>\n",
       "  </thead>\n",
       "  <tbody>\n",
       "    <tr>\n",
       "      <th>0</th>\n",
       "      <td>lemma</td>\n",
       "      <td>0.00</td>\n",
       "      <td>4.358</td>\n",
       "    </tr>\n",
       "    <tr>\n",
       "      <th>1</th>\n",
       "      <td>heuristic</td>\n",
       "      <td>0.00</td>\n",
       "      <td>829.892</td>\n",
       "    </tr>\n",
       "    <tr>\n",
       "      <th>2</th>\n",
       "      <td>simple</td>\n",
       "      <td>4177.64</td>\n",
       "      <td>4.075</td>\n",
       "    </tr>\n",
       "    <tr>\n",
       "      <th>3</th>\n",
       "      <td>indirect</td>\n",
       "      <td>4258.88</td>\n",
       "      <td>4.221</td>\n",
       "    </tr>\n",
       "    <tr>\n",
       "      <th>4</th>\n",
       "      <td>overlapping</td>\n",
       "      <td>4110.10</td>\n",
       "      <td>4.055</td>\n",
       "    </tr>\n",
       "    <tr>\n",
       "      <th>5</th>\n",
       "      <td>indirect_overlapping</td>\n",
       "      <td>4222.29</td>\n",
       "      <td>4.056</td>\n",
       "    </tr>\n",
       "  </tbody>\n",
       "</table>\n",
       "</div>"
      ],
      "text/plain": [
       "                 method  precompute_time  threshold_time\n",
       "0                 lemma             0.00           4.358\n",
       "1             heuristic             0.00         829.892\n",
       "2                simple          4177.64           4.075\n",
       "3              indirect          4258.88           4.221\n",
       "4           overlapping          4110.10           4.055\n",
       "5  indirect_overlapping          4222.29           4.056"
      ]
     },
     "execution_count": 27,
     "metadata": {},
     "output_type": "execute_result"
    }
   ],
   "source": [
    "df = x_y(150, \"0.990000\")\n",
    "df"
   ]
  },
  {
   "cell_type": "code",
   "execution_count": null,
   "metadata": {},
   "outputs": [],
   "source": []
  }
 ],
 "metadata": {
  "kernelspec": {
   "display_name": "Python 3",
   "language": "python",
   "name": "python3"
  },
  "language_info": {
   "codemirror_mode": {
    "name": "ipython",
    "version": 3
   },
   "file_extension": ".py",
   "mimetype": "text/x-python",
   "name": "python",
   "nbconvert_exporter": "python",
   "pygments_lexer": "ipython3",
   "version": "3.7.0"
  }
 },
 "nbformat": 4,
 "nbformat_minor": 2
}
